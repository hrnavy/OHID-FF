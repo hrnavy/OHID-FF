{
 "cells": [
  {
   "cell_type": "code",
   "execution_count": 1,
   "id": "1e0f1b1b-a44f-4aaa-907c-6f40a4cfcc70",
   "metadata": {},
   "outputs": [],
   "source": [
    "import os\n",
    "import shutil\n",
    "import random"
   ]
  },
  {
   "cell_type": "code",
   "execution_count": 3,
   "id": "2a000837-49b5-46a8-94cc-69130f777b83",
   "metadata": {},
   "outputs": [],
   "source": [
    "# Paths\n",
    "dataset_dir = \"dataset_images\"   # folder with all 1197 images\n",
    "output_dir = \"dataset_split\"     # new folder for train/val/test"
   ]
  },
  {
   "cell_type": "code",
   "execution_count": 5,
   "id": "2ff20223-2258-47e0-b345-db7224a6eb8d",
   "metadata": {},
   "outputs": [],
   "source": [
    "# Create directories\n",
    "splits = [\"train\", \"val\", \"test\"]\n",
    "classes = [\"positive\", \"negative\"]"
   ]
  },
  {
   "cell_type": "code",
   "execution_count": 7,
   "id": "b3aa9ffa-37c8-4d0d-9857-700802942ad9",
   "metadata": {},
   "outputs": [],
   "source": [
    "# Create YOLO folders\n",
    "splits = [\"train\", \"val\", \"test\"]\n",
    "for split in splits:\n",
    "    os.makedirs(os.path.join(output_dir, \"images\", split), exist_ok=True)"
   ]
  },
  {
   "cell_type": "code",
   "execution_count": 9,
   "id": "e0fd7503-99b9-401e-ae0e-3249ac76fa76",
   "metadata": {},
   "outputs": [],
   "source": [
    "# Collect files by class (positive=1, negative=0 based on last char)\n",
    "positive_files = [f for f in os.listdir(dataset_dir) if f.endswith(('jpg','png','jpeg')) and f[-5] == '1']\n",
    "negative_files = [f for f in os.listdir(dataset_dir) if f.endswith(('jpg','png','jpeg')) and f[-5] == '0']\n"
   ]
  },
  {
   "cell_type": "code",
   "execution_count": 11,
   "id": "1f4cd4ff-d102-480f-9244-148fbface878",
   "metadata": {},
   "outputs": [
    {
     "name": "stdout",
     "output_type": "stream",
     "text": [
      "Positive: 652\n",
      "Negative: 545\n",
      "Total: 1197\n"
     ]
    }
   ],
   "source": [
    "print(\"Positive:\", len(positive_files))\n",
    "print(\"Negative:\", len(negative_files))\n",
    "print(\"Total:\", len(positive_files) + len(negative_files))"
   ]
  },
  {
   "cell_type": "code",
   "execution_count": 13,
   "id": "79dc910e-dab8-4003-94e4-566534c99891",
   "metadata": {},
   "outputs": [],
   "source": [
    "# Shuffle for randomness\n",
    "random.shuffle(positive_files)\n",
    "random.shuffle(negative_files)"
   ]
  },
  {
   "cell_type": "code",
   "execution_count": 15,
   "id": "b39e7d62-9e62-4a5a-9c4d-85a6a2b74f12",
   "metadata": {},
   "outputs": [],
   "source": [
    "# Function to split files\n",
    "def split_files(file_list, train_ratio=0.7, val_ratio=0.1):\n",
    "    n = len(file_list)\n",
    "    n_train = int(n * train_ratio)\n",
    "    n_val = int(n * val_ratio)\n",
    "    train_files = file_list[:n_train]\n",
    "    val_files = file_list[n_train:n_train+n_val]\n",
    "    test_files = file_list[n_train+n_val:]\n",
    "    return train_files, val_files, test_files"
   ]
  },
  {
   "cell_type": "code",
   "execution_count": 17,
   "id": "c4bb144d-d802-4694-9a49-7313e8f0a1cc",
   "metadata": {},
   "outputs": [],
   "source": [
    "# Split positive and negative sets\n",
    "pos_train, pos_val, pos_test = split_files(positive_files)\n",
    "neg_train, neg_val, neg_test = split_files(negative_files)\n"
   ]
  },
  {
   "cell_type": "code",
   "execution_count": 19,
   "id": "8a44408b-cab8-4188-88f0-62f6b8e6c04a",
   "metadata": {},
   "outputs": [],
   "source": [
    "# Helper: copy image only (no labels)\n",
    "def copy_images_only(files, split):\n",
    "    for f in files:\n",
    "        src = os.path.join(dataset_dir, f)\n",
    "        dst_img = os.path.join(output_dir, \"images\", split, f)\n",
    "        shutil.copy(src, dst_img)\n"
   ]
  },
  {
   "cell_type": "code",
   "execution_count": 21,
   "id": "6be499dc-da5a-4ef0-9457-29e2cfda305d",
   "metadata": {},
   "outputs": [],
   "source": [
    "# Copy only images (no label files)\n",
    "copy_images_only(pos_train, \"train\")\n",
    "copy_images_only(pos_val, \"val\")\n",
    "copy_images_only(pos_test, \"test\")\n",
    "\n",
    "copy_images_only(neg_train, \"train\")\n",
    "copy_images_only(neg_val, \"val\")\n",
    "copy_images_only(neg_test, \"test\")\n"
   ]
  },
  {
   "cell_type": "code",
   "execution_count": 23,
   "id": "05b64dcc-b35a-4767-aed1-a422c2a955b6",
   "metadata": {},
   "outputs": [
    {
     "name": "stdout",
     "output_type": "stream",
     "text": [
      "\n",
      "Train set:\n",
      "  Total: 837\n",
      "  Positive: 456\n",
      "  Negative: 381\n",
      "\n",
      "Val set:\n",
      "  Total: 119\n",
      "  Positive: 65\n",
      "  Negative: 54\n",
      "\n",
      "Test set:\n",
      "  Total: 241\n",
      "  Positive: 131\n",
      "  Negative: 110\n"
     ]
    }
   ],
   "source": [
    "# Path to your dataset split folder\n",
    "dataset_dir = \"dataset_split/images\"  # adjust if needed\n",
    "\n",
    "splits = [\"train\", \"val\", \"test\"]\n",
    "\n",
    "for split in splits:\n",
    "    split_path = os.path.join(dataset_dir, split)\n",
    "    if os.path.exists(split_path):\n",
    "        files = [f for f in os.listdir(split_path) if f.lower().endswith(('jpg','png','jpeg'))]\n",
    "        \n",
    "        total = len(files)\n",
    "        positives = sum(1 for f in files if f[-5] == '1')  # last char before extension\n",
    "        negatives = sum(1 for f in files if f[-5] == '0')\n",
    "        \n",
    "        print(f\"\\n{split.capitalize()} set:\")\n",
    "        print(f\"  Total: {total}\")\n",
    "        print(f\"  Positive: {positives}\")\n",
    "        print(f\"  Negative: {negatives}\")\n",
    "    else:\n",
    "        print(f\"\\n{split.capitalize()} set: Folder not found\")"
   ]
  },
  {
   "cell_type": "code",
   "execution_count": 25,
   "id": "ada6cd6f-ba6c-40ab-8b5e-87f695c1c120",
   "metadata": {},
   "outputs": [
    {
     "name": "stdout",
     "output_type": "stream",
     "text": [
      "                                            filename  split     class\n",
      "0  HEM1_20200623235326_0005_L1B_CMOS2_0_4_512_512...  train  negative\n",
      "1  HEM1_20200623235326_0005_L1B_CMOS2_0_8_512_512...  train  negative\n",
      "2  HEM1_20200623235326_0005_L1B_CMOS2_10_14_512_5...  train  positive\n",
      "3  HEM1_20200623235326_0005_L1B_CMOS2_10_4_512_51...  train  negative\n",
      "4  HEM1_20200623235326_0005_L1B_CMOS2_11_11_512_5...  train  negative\n",
      "✅ File list saved to file_list.csv\n"
     ]
    }
   ],
   "source": [
    "import pandas as pd\n",
    "\n",
    "def create_file_list(dataset_dir=\"dataset_split/images\"):\n",
    "    \"\"\"\n",
    "    Create a list of files in train, val, test folders \n",
    "    with class labels (positive/negative).\n",
    "    \n",
    "    Args:\n",
    "        dataset_dir (str): Path to dataset images folder.\n",
    "        \n",
    "    Returns:\n",
    "        pd.DataFrame: DataFrame with columns [filename, split, class]\n",
    "    \"\"\"\n",
    "    \n",
    "    splits = [\"train\", \"val\", \"test\"]\n",
    "    records = []\n",
    "\n",
    "    for split in splits:\n",
    "        split_path = os.path.join(dataset_dir, split)\n",
    "        if os.path.exists(split_path):\n",
    "            files = [f for f in os.listdir(split_path) if f.lower().endswith(('jpg','png','jpeg'))]\n",
    "            for f in files:\n",
    "                label = \"positive\" if f[-5] == '1' else \"negative\"\n",
    "                records.append([f, split, label])\n",
    "        else:\n",
    "            print(f\"⚠️ Folder not found: {split_path}\")\n",
    "\n",
    "    df = pd.DataFrame(records, columns=[\"filename\", \"split\", \"class\"])\n",
    "    return df\n",
    "\n",
    "# Example usage\n",
    "df_files = create_file_list(\"dataset_split/images\")\n",
    "print(df_files.head())\n",
    "\n",
    "# Optionally save to CSV\n",
    "df_files.to_csv(\"file_list.csv\", index=False)\n",
    "print(\"✅ File list saved to file_list.csv\")"
   ]
  },
  {
   "cell_type": "code",
   "execution_count": null,
   "id": "c5c6472e-dd79-4c40-998c-9557736fb26e",
   "metadata": {},
   "outputs": [],
   "source": []
  }
 ],
 "metadata": {
  "kernelspec": {
   "display_name": "venv",
   "language": "python",
   "name": "venv"
  },
  "language_info": {
   "codemirror_mode": {
    "name": "ipython",
    "version": 3
   },
   "file_extension": ".py",
   "mimetype": "text/x-python",
   "name": "python",
   "nbconvert_exporter": "python",
   "pygments_lexer": "ipython3",
   "version": "3.12.7"
  }
 },
 "nbformat": 4,
 "nbformat_minor": 5
}
